{
 "cells": [
  {
   "cell_type": "code",
   "execution_count": 31,
   "metadata": {},
   "outputs": [
    {
     "data": {
      "text/plain": [
       "<Figure size 1440x800 with 0 Axes>"
      ]
     },
     "execution_count": 31,
     "metadata": {},
     "output_type": "execute_result"
    },
    {
     "data": {
      "text/plain": [
       "<Figure size 1440x800 with 0 Axes>"
      ]
     },
     "metadata": {},
     "output_type": "display_data"
    }
   ],
   "source": [
    "import pandas as pd\n",
    "import matplotlib.pyplot as plt\n",
    "import pandas as pd\n",
    "import scipy as sp\n",
    "from scipy.optimize import minimize\n",
    "import numpy as np\n",
    "from epimodels.discrete.models import SEQIAHR\n",
    "import matplotlib.pyplot as plt\n",
    "import datetime\n",
    "%matplotlib inline\n",
    "from matplotlib.pyplot import figure\n",
    "figure(num=None, figsize=(18, 10), dpi=80)"
   ]
  },
  {
   "cell_type": "markdown",
   "metadata": {},
   "source": [
    "# SEIAHR model"
   ]
  },
  {
   "cell_type": "code",
   "execution_count": 32,
   "metadata": {},
   "outputs": [],
   "source": [
    "model  = SEQIAHR()"
   ]
  },
  {
   "cell_type": "code",
   "execution_count": 33,
   "metadata": {},
   "outputs": [],
   "source": [
    "pars = {\n",
    "    'chi': .5,#0.05188433291603778,\n",
    "    'phi': 0.012413633926076584,\n",
    "    'beta': 0.2,\n",
    "    'rho': 0.3,\n",
    "    'delta': 0.1,\n",
    "    'gamma': 0.04,\n",
    "    'alpha': 0.3413355572047603,\n",
    "    'mu': 0.02359234606623134,\n",
    "    'p': 0.7693029079871165,\n",
    "    'q': 50,#6.635760900566002,\n",
    "    'r': 55#28.637912453634094\n",
    "}\n",
    "model([.99, 0, 1e-6, 0, 0, 0, 0, 0], [0, 300], 1, pars)"
   ]
  },
  {
   "cell_type": "code",
   "execution_count": 34,
   "metadata": {},
   "outputs": [
    {
     "data": {
      "image/png": "[encoded data removed]",
      "text/plain": [
       "<Figure size 432x288 with 1 Axes>"
      ]
     },
     "metadata": {
      "needs_background": "light"
     },
     "output_type": "display_data"
    }
   ],
   "source": [
    "model.plot_traces(vars=['S','E','Q','I','A','H','R'])\n",
    "#plt.savefig('containment.png', dpi=400)\n",
    "\n",
    "plt.title('');"
   ]
  },
  {
   "cell_type": "markdown",
   "metadata": {},
   "source": [
    "## Load data"
   ]
  },
  {
   "cell_type": "code",
   "execution_count": null,
   "metadata": {},
   "outputs": [],
   "source": [
    "cases = pd.read_csv('covid19_18_06.csv')\n",
    "# Pegando os casos do Brasil.io\n",
    "# cases = pd.read_csv('https://brasil.io/dataset/covid19/caso_full/?format=csv')\n",
    "cases.date = pd.to_datetime(cases.date)"
   ]
  },
  {
   "cell_type": "code",
   "execution_count": null,
   "metadata": {},
   "outputs": [],
   "source": [
    "df_states = cases[cases.place_type!='state'].groupby(['date','state']).sum()\n",
    "df_states.reset_index(inplace=True)\n",
    "df_states.set_index('date', inplace=True)"
   ]
  },
  {
   "cell_type": "code",
   "execution_count": null,
   "metadata": {},
   "outputs": [],
   "source": [
    "# df_states.set_index('date', inplace=True)\n",
    "fig,ax = plt.subplots(1,1,figsize=(15,8))\n",
    "\n",
    "for uf in ['SP','RJ','MG','CE','RS', 'PE', 'AM', 'BA']:\n",
    "    df_states[df_states.state==uf].last_available_confirmed.plot(ax=ax,style='-o', label=uf, grid=True)\n",
    "\n",
    "ax.legend()\n",
    "#plt.savefig('Casos_confirmados_estados.png',dpi=200)"
   ]
  },
  {
   "cell_type": "markdown",
   "metadata": {},
   "source": [
    "#### Simulação SP"
   ]
  },
  {
   "cell_type": "code",
   "execution_count": null,
   "metadata": {},
   "outputs": [],
   "source": [
    "df_SP = df_states[df_states.state=='SP'][['last_available_confirmed','new_confirmed','last_available_deaths', 'new_deaths']]\n",
    "df_SP.columns = ['Confirmados','Casos_novos','Mortes','Mortes_novas']"
   ]
  },
  {
   "cell_type": "code",
   "execution_count": null,
   "metadata": {},
   "outputs": [],
   "source": [
    "popSP = 12.28e6\n",
    "subnot=0.8\n",
    "\n",
    "def plot_fit(data, pop, model, offset):\n",
    "    f,(ax1,ax2) = plt.subplots(2,1,figsize=(15,10))\n",
    "    data.plot(ax=ax1,style=':*', grid=True)\n",
    "    ax1.plot(model.traces['time'][offset:]-offset,model.traces['C'][offset:]*pop*subnot, label='casos' );\n",
    "    ax1.plot(model.traces['time'][offset:]-offset,model.traces['D'][offset:]*pop, label='Mortes' );\n",
    "    ax1.legend();\n",
    "    ax2.plot(model.traces['time'][offset:]-offset,model.traces['I'][offset:]*pop, label='Infected')\n",
    "    ax2.plot(model.traces['time'][offset:]-offset,model.traces['A'][offset:]*pop, label='Asymptomatic')\n",
    "#     ax2.plot(model.traces['time'][offset:]-offset,model.traces['S'][offset:]*pop, label='Susceptible')\n",
    "    ax2.grid()\n",
    "    ax2.legend()\n",
    "plot_fit(df_SP[['Confirmados', 'Mortes']], popSP, model, 30);"
   ]
  },
  {
   "cell_type": "code",
   "execution_count": null,
   "metadata": {},
   "outputs": [],
   "source": [
    "pardict = {\n",
    " 'chi': .5,#0.05188433291603778,\n",
    "    'phi': 0.012413633926076584,\n",
    "    'beta': 0.2,\n",
    "    'rho': 0.6,\n",
    "    'delta': 0.1,\n",
    "    'gamma': 0.04,\n",
    "    'alpha': 0.3413355572047603,\n",
    "    'mu': 0.02359234606623134,\n",
    "    'p': 0.7693029079871165,\n",
    "    'q': 50,#6.635760900566002,\n",
    "    'r': 55, #28.637912453634094\n",
    "    'offset': 25\n",
    "}"
   ]
  },
  {
   "cell_type": "code",
   "execution_count": null,
   "metadata": {},
   "outputs": [],
   "source": [
    "parn = list(pardict.keys())\n",
    "parv = list(pardict.values())"
   ]
  },
  {
   "cell_type": "code",
   "execution_count": null,
   "metadata": {},
   "outputs": [],
   "source": [
    "data = df_SP[['Confirmados', 'Mortes']]\n",
    "ld = len(data)\n",
    "def loss(pars):\n",
    "    pars = list(pars)\n",
    "    offs = int(np.round(pars.pop()))\n",
    "#     print(dict(zip(parn[:-1],pars)))\n",
    "    model([.99, 0, 1e-6, 0, 0, 0, 0, 0], [0, ld+offs], 1, dict(zip(parn[:-1],pars)))\n",
    "    C=model.traces['C'][offs:offs+ld]*popSP*subnot\n",
    "    D=model.traces['D'][offs:offs+ld]*popSP\n",
    "    loss  = sum((data.Confirmados-C)**2) +sum((data.Mortes-D)**2)/2*len(data)\n",
    "    return loss"
   ]
  },
  {
   "cell_type": "code",
   "execution_count": null,
   "metadata": {},
   "outputs": [],
   "source": [
    "res = minimize(\n",
    "    loss,\n",
    "    parv,\n",
    "    #          method='COBYLA',\n",
    "    method='L-BFGS-B',\n",
    "    #                method='TNC',\n",
    "    bounds=[(0.0, 1.0), (0.0, 1.0), (0.0, 1.0), (0.0, 2.0), (0.0, 1.0),\n",
    "            (0.0, 2.0), (0.0, 1.0), (0.0, 1.0),(.35, 1), (0, 30), (0, 90),\n",
    "                                                   (0, 40)],\n",
    "    options={'maxiter': 250})\n",
    "print(\"Sucess: \", res['success'])"
   ]
  },
  {
   "cell_type": "code",
   "execution_count": null,
   "metadata": {},
   "outputs": [],
   "source": [
    "def R0(prs):\n",
    "    chi,phi,beta,rho, delta,gamma,alpha,mu,p,q,r,offset=prs\n",
    "    B = beta*chi-beta\n",
    "    return -B*(p*phi+gamma+(delta-gamma)*p)/(gamma*(delta+phi))\n",
    "print(dict(zip(parn,res['x'])))\n",
    "plot_fit(data,popSP, model, int(res['x'][-1]))\n",
    "print(\"R0=\", R0(res['x']))"
   ]
  },
  {
   "cell_type": "markdown",
   "metadata": {},
   "source": [
    "## Optimization with PuLP"
   ]
  },
  {
   "cell_type": "code",
   "execution_count": null,
   "metadata": {},
   "outputs": [],
   "source": [
    "import pulp as pl"
   ]
  },
  {
   "cell_type": "code",
   "execution_count": null,
   "metadata": {},
   "outputs": [],
   "source": [
    "opt_prob = pl.LpProblem(\"Parameter_finding\", pl.LpMinimize)\n",
    "chi = pl.LpVariable('chi', lowBound=0, cat='Continuous')\n",
    "phi = pl.LpVariable('phi', lowBound=0, upBound=1, cat='Continuous')\n",
    "beta = pl.LpVariable('beta', lowBound=0, cat='Continuous')\n",
    "rho = pl.LpVariable('rho', lowBound=0, cat='Continuous')\n",
    "delta = pl.LpVariable('delta', lowBound=0, cat='Continuous')\n",
    "alpha = pl.LpVariable('alpha', lowBound=0, cat='Continuous')\n",
    "mu = pl.LpVariable('mu', lowBound=0, cat='Continuous')\n",
    "p = pl.LpVariable('p', lowBound=0, upBound=1, cat='Continuous')\n",
    "q = pl.LpVariable('q', lowBound=0, cat='Continuous')\n",
    "r = pl.LpVariable('r', lowBound=0, cat='Continuous')\n",
    "offset = pl.LpVariable('offset', lowBound=0, upBound=60, cat='Integer')"
   ]
  },
  {
   "cell_type": "code",
   "execution_count": null,
   "metadata": {},
   "outputs": [],
   "source": [
    "#adding the loss function\n",
    "opt_prob += loss([chi,phi,beta,rho,delta,alpha,mu,p,q,r,offset])"
   ]
  },
  {
   "cell_type": "markdown",
   "metadata": {},
   "source": [
    "## Tensorflow edward2 estimation"
   ]
  },
  {
   "cell_type": "code",
   "execution_count": null,
   "metadata": {},
   "outputs": [],
   "source": [
    "from tensorflow_probability import edward2 as ed"
   ]
  },
  {
   "cell_type": "code",
   "execution_count": null,
   "metadata": {},
   "outputs": [],
   "source": [
    "n = ed.Normal(0,1)\n",
    "print(n**2)"
   ]
  },
  {
   "cell_type": "code",
   "execution_count": null,
   "metadata": {},
   "outputs": [],
   "source": [
    "pars"
   ]
  },
  {
   "cell_type": "code",
   "execution_count": null,
   "metadata": {},
   "outputs": [],
   "source": [
    "mod  = SEQIAHR()\n",
    "def ed_model():\n",
    "    mod  = SEQIAHR()\n",
    "    pars ={\n",
    "    'chi': ed.Uniform(),# 0.05188433291603778,\n",
    "    'phi': ed.Uniform(), #0.012413633926076584,\n",
    "    'beta': ed.Uniform(),#0.47272459855759813,\n",
    "    'rho': ed.Uniform(),#0.2190519831830368,\n",
    "    'delta': ed.Uniform(), #0.04168480042146949,\n",
    "    'gamma': ed.Uniform(),\n",
    "    'alpha': ed.Uniform(),#0.3413355572047603,\n",
    "    'mu': ed.Uniform(), #0.02359234606623134,\n",
    "    'p': ed.Uniform(), #0.7693029079871165,\n",
    "    'q': ed.Uniform(0,30), #6.635760900566002,\n",
    "    'r': ed.Uniform(0,60), #28.637912453634094\n",
    "            }\n",
    "    return mod([.99, 0, 1e-6, 0, 0, 0, 0, 0], [0, 300], 1, pars)\n",
    "    "
   ]
  },
  {
   "cell_type": "code",
   "execution_count": null,
   "metadata": {},
   "outputs": [],
   "source": [
    "ed_model()"
   ]
  },
  {
   "cell_type": "code",
   "execution_count": null,
   "metadata": {},
   "outputs": [],
   "source": [
    "#Retorna None"
   ]
  },
  {
   "cell_type": "code",
   "execution_count": null,
   "metadata": {},
   "outputs": [],
   "source": [
    "plot_fit(data,popSP,ed_model(), 30)"
   ]
  },
  {
   "cell_type": "code",
   "execution_count": null,
   "metadata": {},
   "outputs": [],
   "source": [
    "data"
   ]
  },
  {
   "cell_type": "markdown",
   "metadata": {},
   "source": [
    "## PyMC4 Estimation"
   ]
  },
  {
   "cell_type": "code",
   "execution_count": null,
   "metadata": {},
   "outputs": [],
   "source": [
    "import pymc4 as pm\n",
    "import tensorflow as tf\n",
    "import arviz as az"
   ]
  },
  {
   "cell_type": "code",
   "execution_count": null,
   "metadata": {},
   "outputs": [],
   "source": [
    "mod  = SEQIAHR()\n",
    "\n",
    "@tf.autograph.experimental.do_not_convert\n",
    "def get_sim(pars):\n",
    "    for k, v in pars.items():\n",
    "#         print(k, type(v))\n",
    "        try:\n",
    "#             print(v.numpy())\n",
    "            pars[k] = v.numpy()\n",
    "        except:\n",
    "#             print(dir(v))\n",
    "#             sess = tf1.Session()\n",
    "#             print(v.eval(session=sess))\n",
    "            pars[k] = 0#v.eval(session=sess)\n",
    "#         pars = {k:v.numpy() for k,v in pars.items()}\n",
    "    popSP = 12.28e6\n",
    "    offset = 30\n",
    "    mod([.99, 0, 1e-6, 0, 0, 0, 0, 0], [0, 300], 1, pars)\n",
    "    C=mod.traces['C'][offset:offset+ld]*popSP\n",
    "    D=mod.traces['D'][offset:offset+ld]*popSP\n",
    "    return C.astype('float32'),D.astype('float32')\n",
    "    \n",
    "    \n",
    "@pm.model\n",
    "def SEIAHR_model():\n",
    "    chi = yield pm.Uniform('chi', 0,1)# 0.05188433291603778,\n",
    "    phi = yield pm.Uniform('phi', 0,1) #0.012413633926076584,\n",
    "    beta = yield pm.Uniform('beta', 0,1)#0.47272459855759813,\n",
    "    rho = yield pm.Uniform('rho', 0,1)#0.2190519831830368,\n",
    "    delta = yield pm.Uniform('delta', 0,1) #0.04168480042146949,\n",
    "    gamma = yield pm.Uniform('gamma', 0,1) #,\n",
    "    alpha = yield pm.Uniform('alpha', 0,1)#0.3413355572047603,\n",
    "    mu = yield pm.Uniform('mu', 0,1) #0.02359234606623134,\n",
    "    p = yield pm.Uniform('p', 0,1) #0.7693029079871165,\n",
    "    q = yield pm.Uniform('q',0,30) #6.635760900566002,\n",
    "    r = yield pm.Uniform('r',0,60) #28.637912453634094\n",
    "    \n",
    "    pars = dict(zip(parn,[chi,phi,beta,rho,delta,gamma,alpha,mu,p,q,r]))\n",
    "    res = get_sim(pars)\n",
    "    casos, mortes = res\n",
    "#     par_pois = yield pm.Exponential('lamb',1/100)\n",
    "    incidencia = yield pm.Poisson('incidência', rate=casos, shape=(1,len(casos)))\n",
    "    mortalidade = yield pm.Poisson('mortalidade', rate=mortes, shape=(1,len(mortes)))\n",
    "#     Verossimilhanças\n",
    "    L_casos = pm.Poisson('Lik_casos', rate=incidencia, observed=data.Confirmados)\n",
    "    L_mortes = pm.Poisson('Lik_mortes', rate=mortalidade, observed=data.Mortes)"
   ]
  },
  {
   "cell_type": "code",
   "execution_count": null,
   "metadata": {},
   "outputs": [],
   "source": [
    "%time data = pm.sample(SEIAHR_model(), num_chains=16)"
   ]
  },
  {
   "cell_type": "code",
   "execution_count": null,
   "metadata": {},
   "outputs": [],
   "source": [
    "az.plot_trace(data);"
   ]
  },
  {
   "cell_type": "code",
   "execution_count": null,
   "metadata": {},
   "outputs": [],
   "source": []
  }
 ],
 "metadata": {
  "kernelspec": {
   "display_name": "Python 3",
   "language": "python",
   "name": "python3"
  },
  "language_info": {
   "codemirror_mode": {
    "name": "ipython",
    "version": 3
   },
   "file_extension": ".py",
   "mimetype": "text/x-python",
   "name": "python",
   "nbconvert_exporter": "python",
   "pygments_lexer": "ipython3",
   "version": "3.7.3"
  }
 },
 "nbformat": 4,
 "nbformat_minor": 2
}
