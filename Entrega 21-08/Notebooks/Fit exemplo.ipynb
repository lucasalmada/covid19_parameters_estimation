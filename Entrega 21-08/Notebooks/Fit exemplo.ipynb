{
 "cells": [
  {
   "cell_type": "code",
   "execution_count": 1,
   "metadata": {},
   "outputs": [
    {
     "name": "stdout",
     "output_type": "stream",
     "text": [
      "Requirement already satisfied: lmfit in c:\\users\\lucas\\appdata\\local\\programs\\python\\python37\\lib\\site-packages (1.0.1)\n",
      "Requirement already satisfied: numpy>=1.16 in c:\\users\\lucas\\appdata\\local\\programs\\python\\python37\\lib\\site-packages (from lmfit) (1.16.2)\n",
      "Requirement already satisfied: uncertainties>=3.0.1 in c:\\users\\lucas\\appdata\\local\\programs\\python\\python37\\lib\\site-packages (from lmfit) (3.1.4)\n",
      "Requirement already satisfied: scipy>=1.2 in c:\\users\\lucas\\appdata\\local\\programs\\python\\python37\\lib\\site-packages (from lmfit) (1.4.1)\n",
      "Requirement already satisfied: asteval>=0.9.16 in c:\\users\\lucas\\appdata\\local\\programs\\python\\python37\\lib\\site-packages (from lmfit) (0.9.18)\n",
      "Requirement already satisfied: future in c:\\users\\lucas\\appdata\\local\\programs\\python\\python37\\lib\\site-packages (from uncertainties>=3.0.1->lmfit) (0.18.2)\n"
     ]
    },
    {
     "name": "stderr",
     "output_type": "stream",
     "text": [
      "You are using pip version 19.0.3, however version 20.2.1 is available.\n",
      "You should consider upgrading via the 'python -m pip install --upgrade pip' command.\n"
     ]
    }
   ],
   "source": [
    "\n",
    "import numpy as np\n",
    "import pandas as pd\n",
    "pd.options.mode.chained_assignment = None  # default='warn'\n",
    "\n",
    "import matplotlib.pyplot as plt\n",
    "import matplotlib.dates as mdates\n",
    "%matplotlib inline \n",
    "\n",
    "\n",
    "from scipy.integrate import odeint\n",
    "!pip install lmfit\n",
    "import lmfit\n",
    "from lmfit.lineshapes import gaussian, lorentzian\n"
   ]
  },
  {
   "cell_type": "code",
   "execution_count": 2,
   "metadata": {},
   "outputs": [],
   "source": [
    "# read the data\n",
    "beds = pd.read_csv(\"https://raw.githubusercontent.com/hf2000510/infectious_disease_modelling/master/data/beds.csv\", header=0)\n",
    "agegroups = pd.read_csv(\"https://raw.githubusercontent.com/hf2000510/infectious_disease_modelling/master/data/agegroups.csv\")\n",
    "probabilities = pd.read_csv(\"https://raw.githubusercontent.com/hf2000510/infectious_disease_modelling/master/data/probabilities.csv\")\n",
    "covid_data = pd.read_csv(\"https://tinyurl.com/t59cgxn\", parse_dates=[\"Date\"], skiprows=[1])\n",
    "covid_data[\"Location\"] = covid_data[\"Country/Region\"]\n",
    "\n",
    "# create some dicts for fast lookup\n",
    "# 1. beds\n",
    "beds_lookup = dict(zip(beds[\"Country\"], beds[\"ICU_Beds\"]))\n",
    "# 2. agegroups\n",
    "agegroup_lookup = dict(zip(agegroups['Location'], agegroups[['0_9', '10_19', '20_29', '30_39', '40_49', '50_59', '60_69', '70_79', '80_89', '90_100']].values))"
   ]
  },
  {
   "cell_type": "code",
   "execution_count": 3,
   "metadata": {},
   "outputs": [],
   "source": [
    "def deriv(y, t, beta, gamma, sigma, N, p_I_to_C, p_C_to_D, Beds):\n",
    "    S, E, I, C, R, D = y\n",
    "\n",
    "    dSdt = -beta(t) * I * S / N\n",
    "    dEdt = beta(t) * I * S / N - sigma * E\n",
    "    dIdt = sigma * E - 1/12.0 * p_I_to_C * I - gamma * (1 - p_I_to_C) * I\n",
    "    dCdt = 1/12.0 * p_I_to_C * I - 1/7.5 * p_C_to_D * min(Beds(t), C) - max(0, C-Beds(t)) - (1 - p_C_to_D) * 1/6.5 * min(Beds(t), C)\n",
    "    dRdt = gamma * (1 - p_I_to_C) * I + (1 - p_C_to_D) * 1/6.5 * min(Beds(t), C)\n",
    "    dDdt = 1/7.5 * p_C_to_D * min(Beds(t), C) + max(0, C-Beds(t))\n",
    "    return dSdt, dEdt, dIdt, dCdt, dRdt, dDdt"
   ]
  },
  {
   "cell_type": "code",
   "execution_count": 4,
   "metadata": {},
   "outputs": [],
   "source": [
    "gamma = 1.0/9.0\n",
    "sigma = 1.0/3.0\n",
    "\n",
    "def logistic_R_0(t, R_0_start, k, x0, R_0_end):\n",
    "    return (R_0_start-R_0_end) / (1 + np.exp(-k*(-t+x0))) + R_0_end\n",
    "\n",
    "def Model(days, agegroups, beds_per_100k, R_0_start, k, x0, R_0_end, prob_I_to_C, prob_C_to_D, s):\n",
    "\n",
    "    def beta(t):\n",
    "        return logistic_R_0(t, R_0_start, k, x0, R_0_end) * gamma\n",
    "\n",
    "    N = sum(agegroups)\n",
    "    \n",
    "    def Beds(t):\n",
    "        beds_0 = beds_per_100k / 100_000 * N\n",
    "        return beds_0 + s*beds_0*t  # 0.003\n",
    "\n",
    "    y0 = N-1.0, 1.0, 0.0, 0.0, 0.0, 0.0\n",
    "    t = np.linspace(0, days-1, days)\n",
    "    ret = odeint(deriv, y0, t, args=(beta, gamma, sigma, N, prob_I_to_C, prob_C_to_D, Beds))\n",
    "    S, E, I, C, R, D = ret.T\n",
    "    R_0_over_time = [beta(i)/gamma for i in range(len(t))]\n",
    "\n",
    "    return t, S, E, I, C, R, D, R_0_over_time, Beds, prob_I_to_C, prob_C_to_D"
   ]
  },
  {
   "cell_type": "code",
   "execution_count": 5,
   "metadata": {},
   "outputs": [],
   "source": [
    "data = covid_data[covid_data[\"Location\"] == \"Italy\"][\"Value\"].values[::-1]\n",
    "agegroups = agegroup_lookup[\"Italy\"]\n",
    "beds_per_100k = beds_lookup[\"Italy\"]\n",
    "outbreak_shift = 30\n",
    "params_init_min_max = {\"R_0_start\": (3.0, 2.0, 5.0), \"k\": (2.5, 0.01, 5.0), \"x0\": (90, 0, 120), \"R_0_end\": (0.9, 0.3, 3.5),\n",
    "                       \"prob_I_to_C\": (0.05, 0.01, 0.1), \"prob_C_to_D\": (0.5, 0.05, 0.8),\n",
    "                       \"s\": (0.003, 0.001, 0.01)}  # form: {parameter: (initial guess, minimum value, max value)}"
   ]
  },
  {
   "cell_type": "code",
   "execution_count": 6,
   "metadata": {},
   "outputs": [],
   "source": [
    "\n",
    "days = outbreak_shift + len(data)\n",
    "if outbreak_shift >= 0:\n",
    "    y_data = np.concatenate((np.zeros(outbreak_shift), data))\n",
    "else:\n",
    "    y_data = y_data[-outbreak_shift:]\n",
    "\n",
    "x_data = np.linspace(0, days - 1, days, dtype=int)  # x_data is just [0, 1, ..., max_days] array\n",
    "\n",
    "def fitter(x, R_0_start, k, x0, R_0_end, prob_I_to_C, prob_C_to_D, s):\n",
    "    ret = Model(days, agegroups, beds_per_100k, R_0_start, k, x0, R_0_end, prob_I_to_C, prob_C_to_D, s)\n",
    "    return ret[6][x]\n",
    "\n",
    "days = outbreak_shift + len(data)\n",
    "if outbreak_shift >= 0:\n",
    "    y_data = np.concatenate((np.zeros(outbreak_shift), data))\n",
    "else:\n",
    "    y_data = y_data[-outbreak_shift:]\n",
    "\n",
    "x_data = np.linspace(0, days - 1, days, dtype=int)  # x_data is just [0, 1, ..., max_days] array\n"
   ]
  },
  {
   "cell_type": "code",
   "execution_count": 7,
   "metadata": {},
   "outputs": [],
   "source": [
    "\n",
    "mod = lmfit.Model(fitter)\n",
    "\n",
    "for kwarg, (init, mini, maxi) in params_init_min_max.items():\n",
    "    mod.set_param_hint(str(kwarg), value=init, min=mini, max=maxi, vary=True)\n",
    "\n",
    "params = mod.make_params()\n",
    "fit_method = \"leastsq\""
   ]
  },
  {
   "cell_type": "code",
   "execution_count": 8,
   "metadata": {},
   "outputs": [],
   "source": [
    "\n",
    "result = mod.fit(y_data, params, method=\"least_squares\", x=x_data)"
   ]
  },
  {
   "cell_type": "code",
   "execution_count": 9,
   "metadata": {},
   "outputs": [
    {
     "data": {
      "image/png": "[encoded data removed]",
      "text/plain": [
       "<Figure size 432x288 with 1 Axes>"
      ]
     },
     "metadata": {
      "needs_background": "light"
     },
     "output_type": "display_data"
    }
   ],
   "source": [
    "result.plot_fit(datafmt=\"-\");"
   ]
  },
  {
   "cell_type": "code",
   "execution_count": 10,
   "metadata": {},
   "outputs": [
    {
     "data": {
      "image/png": "[encoded data removed]",
      "text/plain": [
       "<Figure size 432x288 with 1 Axes>"
      ]
     },
     "metadata": {
      "needs_background": "light"
     },
     "output_type": "display_data"
    }
   ],
   "source": [
    "plt.plot(x_data, y_data, 'bo')\n",
    "plt.plot(x_data, result.init_fit, 'k--', label='initial fit')\n",
    "plt.plot(x_data, result.best_fit, 'r-', label='best fit')\n",
    "plt.legend(loc='best')\n",
    "plt.show()"
   ]
  },
  {
   "cell_type": "code",
   "execution_count": 11,
   "metadata": {},
   "outputs": [
    {
     "data": {
      "text/plain": [
       "array([0.0000e+00, 0.0000e+00, 0.0000e+00, 0.0000e+00, 0.0000e+00,\n",
       "       0.0000e+00, 0.0000e+00, 0.0000e+00, 0.0000e+00, 0.0000e+00,\n",
       "       0.0000e+00, 0.0000e+00, 0.0000e+00, 0.0000e+00, 0.0000e+00,\n",
       "       0.0000e+00, 0.0000e+00, 0.0000e+00, 0.0000e+00, 0.0000e+00,\n",
       "       0.0000e+00, 0.0000e+00, 0.0000e+00, 0.0000e+00, 0.0000e+00,\n",
       "       0.0000e+00, 0.0000e+00, 0.0000e+00, 0.0000e+00, 0.0000e+00,\n",
       "       0.0000e+00, 0.0000e+00, 0.0000e+00, 0.0000e+00, 0.0000e+00,\n",
       "       0.0000e+00, 0.0000e+00, 0.0000e+00, 0.0000e+00, 0.0000e+00,\n",
       "       0.0000e+00, 0.0000e+00, 0.0000e+00, 0.0000e+00, 0.0000e+00,\n",
       "       0.0000e+00, 0.0000e+00, 0.0000e+00, 0.0000e+00, 0.0000e+00,\n",
       "       0.0000e+00, 0.0000e+00, 0.0000e+00, 0.0000e+00, 0.0000e+00,\n",
       "       0.0000e+00, 0.0000e+00, 0.0000e+00, 0.0000e+00, 0.0000e+00,\n",
       "       1.0000e+00, 2.0000e+00, 3.0000e+00, 7.0000e+00, 1.0000e+01,\n",
       "       1.2000e+01, 1.7000e+01, 2.1000e+01, 2.9000e+01, 3.4000e+01,\n",
       "       5.2000e+01, 7.9000e+01, 1.0700e+02, 1.4800e+02, 1.9700e+02,\n",
       "       2.3300e+02, 3.6600e+02, 4.6300e+02, 6.3100e+02, 8.2700e+02,\n",
       "       1.0160e+03, 1.2660e+03, 1.4410e+03, 1.8090e+03, 2.1580e+03,\n",
       "       2.5030e+03, 2.9780e+03, 3.4050e+03, 4.0320e+03, 4.8250e+03,\n",
       "       5.4760e+03, 6.0770e+03, 6.8200e+03, 7.5030e+03, 8.2150e+03,\n",
       "       9.1340e+03, 1.0023e+04, 1.0779e+04, 1.1591e+04, 1.2428e+04,\n",
       "       1.3155e+04, 1.3915e+04, 1.4681e+04, 1.5362e+04, 1.5887e+04,\n",
       "       1.6523e+04, 1.7127e+04, 1.7669e+04, 1.8279e+04, 1.8849e+04,\n",
       "       1.9468e+04, 1.9899e+04, 2.0465e+04, 2.1067e+04, 2.1645e+04,\n",
       "       2.2170e+04, 2.2745e+04, 2.3227e+04, 2.3660e+04, 2.4114e+04,\n",
       "       2.4648e+04, 2.5085e+04, 2.5549e+04, 2.5969e+04, 2.6384e+04,\n",
       "       2.6644e+04, 2.6977e+04, 2.7359e+04, 2.7682e+04, 2.7967e+04,\n",
       "       2.8236e+04, 2.8710e+04, 2.8884e+04, 2.9079e+04, 2.9315e+04,\n",
       "       2.9684e+04, 2.9958e+04, 3.0201e+04, 3.0395e+04, 3.0560e+04,\n",
       "       3.0739e+04, 3.0911e+04, 3.1106e+04, 3.1368e+04, 3.1610e+04,\n",
       "       3.1763e+04, 3.1908e+04, 3.2007e+04, 3.2169e+04, 3.2330e+04,\n",
       "       3.2486e+04, 3.2616e+04, 3.2735e+04, 3.2785e+04, 3.2877e+04,\n",
       "       3.2955e+04, 3.3072e+04, 3.3142e+04, 3.3229e+04, 3.3340e+04,\n",
       "       3.3415e+04, 3.3475e+04, 3.3530e+04, 3.3601e+04, 3.3689e+04,\n",
       "       3.3774e+04, 3.3846e+04, 3.3899e+04, 3.3964e+04, 3.4043e+04,\n",
       "       3.4114e+04, 3.4167e+04, 3.4223e+04, 3.4301e+04, 3.4345e+04,\n",
       "       3.4371e+04, 3.4405e+04, 3.4448e+04, 3.4514e+04, 3.4561e+04,\n",
       "       3.4610e+04, 3.4634e+04, 3.4657e+04, 3.4675e+04, 3.4644e+04,\n",
       "       3.4678e+04, 3.4708e+04, 3.4716e+04, 3.4738e+04, 3.4744e+04,\n",
       "       3.4767e+04, 3.4788e+04, 3.4818e+04, 3.4833e+04, 3.4854e+04,\n",
       "       3.4861e+04, 3.4869e+04, 3.4899e+04, 3.4914e+04, 3.4926e+04,\n",
       "       3.4938e+04, 3.4945e+04, 3.4954e+04, 3.4967e+04, 3.4984e+04,\n",
       "       3.4997e+04, 3.5017e+04, 3.5028e+04, 3.5042e+04, 3.5045e+04,\n",
       "       3.5058e+04, 3.5073e+04, 3.5082e+04, 3.5092e+04, 3.5097e+04,\n",
       "       3.5102e+04, 3.5107e+04, 3.5112e+04, 3.5123e+04, 3.5129e+04,\n",
       "       3.5132e+04, 3.5141e+04, 3.5146e+04, 3.5154e+04, 3.5166e+04,\n",
       "       3.5171e+04])"
      ]
     },
     "execution_count": 11,
     "metadata": {},
     "output_type": "execute_result"
    }
   ],
   "source": [
    "y_data"
   ]
  },
  {
   "cell_type": "code",
   "execution_count": 12,
   "metadata": {},
   "outputs": [
    {
     "data": {
      "text/plain": [
       "array([  0,   1,   2,   3,   4,   5,   6,   7,   8,   9,  10,  11,  12,\n",
       "        13,  14,  15,  16,  17,  18,  19,  20,  21,  22,  23,  24,  25,\n",
       "        26,  27,  28,  29,  30,  31,  32,  33,  34,  35,  36,  37,  38,\n",
       "        39,  40,  41,  42,  43,  44,  45,  46,  47,  48,  49,  50,  51,\n",
       "        52,  53,  54,  55,  56,  57,  58,  59,  60,  61,  62,  63,  64,\n",
       "        65,  66,  67,  68,  69,  70,  71,  72,  73,  74,  75,  76,  77,\n",
       "        78,  79,  80,  81,  82,  83,  84,  85,  86,  87,  88,  89,  90,\n",
       "        91,  92,  93,  94,  95,  96,  97,  98,  99, 100, 101, 102, 103,\n",
       "       104, 105, 106, 107, 108, 109, 110, 111, 112, 113, 114, 115, 116,\n",
       "       117, 118, 119, 120, 121, 122, 123, 124, 125, 126, 127, 128, 129,\n",
       "       130, 131, 132, 133, 134, 135, 136, 137, 138, 139, 140, 141, 142,\n",
       "       143, 144, 145, 146, 147, 148, 149, 150, 151, 152, 153, 154, 155,\n",
       "       156, 157, 158, 159, 160, 161, 162, 163, 164, 165, 166, 167, 168,\n",
       "       169, 170, 171, 172, 173, 174, 175, 176, 177, 178, 179, 180, 181,\n",
       "       182, 183, 184, 185, 186, 187, 188, 189, 190, 191, 192, 193, 194,\n",
       "       195, 196, 197, 198, 199, 200, 201, 202, 203, 204, 205, 206, 207,\n",
       "       208, 209, 210, 211, 212, 213, 214, 215, 216, 217, 218, 219, 220,\n",
       "       221, 222, 223, 224, 225])"
      ]
     },
     "execution_count": 12,
     "metadata": {},
     "output_type": "execute_result"
    }
   ],
   "source": [
    "x_data"
   ]
  },
  {
   "cell_type": "code",
   "execution_count": 16,
   "metadata": {},
   "outputs": [
    {
     "name": "stdout",
     "output_type": "stream",
     "text": [
      "Name            Value      Min      Max     Vary    Expr    \n",
      "R_0_end           0.9      0.3      3.5     True    \n",
      "R_0_start           3        2        5     True    \n",
      "k                 2.5     0.01        5     True    \n",
      "prob_C_to_D       0.5     0.05      0.8     True    \n",
      "prob_I_to_C      0.05     0.01      0.1     True    \n",
      "s               0.003    0.001     0.01     True    \n",
      "x0                 90        0      120     True    \n"
     ]
    }
   ],
   "source": [
    "mod.print_param_hints()"
   ]
  },
  {
   "cell_type": "code",
   "execution_count": null,
   "metadata": {},
   "outputs": [],
   "source": []
  }
 ],
 "metadata": {
  "kernelspec": {
   "display_name": "Python 3",
   "language": "python",
   "name": "python3"
  },
  "language_info": {
   "codemirror_mode": {
    "name": "ipython",
    "version": 3
   },
   "file_extension": ".py",
   "mimetype": "text/x-python",
   "name": "python",
   "nbconvert_exporter": "python",
   "pygments_lexer": "ipython3",
   "version": "3.7.3"
  }
 },
 "nbformat": 4,
 "nbformat_minor": 2
}
