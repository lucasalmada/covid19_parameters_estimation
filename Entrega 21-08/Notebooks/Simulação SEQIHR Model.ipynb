{
 "cells": [
  {
   "cell_type": "code",
   "execution_count": 32,
   "metadata": {},
   "outputs": [],
   "source": [
    "import pandas as pd\n",
    "import matplotlib.pyplot as plt\n",
    "from scipy.integrate import odeint\n",
    "from scipy.integrate import DOP853\n",
    "import pandas as pd\n",
    "import scipy as sp\n",
    "from scipy.optimize import minimize\n",
    "import numpy as np\n",
    "from epimodels.discrete.models import SEQIAHR\n",
    "from ipywidgets import interact, interactive, fixed, interact_manual\n",
    "import matplotlib.pyplot as plt\n",
    "import datetime\n",
    "import lmfit\n",
    "%matplotlib inline"
   ]
  },
  {
   "cell_type": "markdown",
   "metadata": {},
   "source": [
    "## Load data"
   ]
  },
  {
   "cell_type": "code",
   "execution_count": 53,
   "metadata": {},
   "outputs": [],
   "source": [
    "cases = pd.read_csv('covid19_18_06.csv')\n",
    "# Pegando os casos do Brasil.io\n",
    "# cases = pd.read_csv('https://brasil.io/dataset/covid19/caso_full/?format=csv')\n",
    "cases.date = pd.to_datetime(cases.date)"
   ]
  },
  {
   "cell_type": "code",
   "execution_count": 54,
   "metadata": {},
   "outputs": [],
   "source": [
    "df_states = cases[cases.place_type!='state'].groupby(['date','state']).sum()\n",
    "df_states.reset_index(inplace=True)\n",
    "df_states.set_index('date', inplace=True)"
   ]
  },
  {
   "cell_type": "code",
   "execution_count": null,
   "metadata": {},
   "outputs": [],
   "source": [
    "# df_states.set_index('date', inplace=True)\n",
    "fig,ax = plt.subplots(1,1,figsize=(15,8))\n",
    "\n",
    "for uf in ['SP','RJ','MG','CE','RS', 'PE', 'AM', 'BA']:\n",
    "    df_states[df_states.state==uf].last_available_confirmed.plot(ax=ax,style='-o', label=uf, grid=True)\n",
    "\n",
    "ax.legend()\n",
    "#plt.savefig('Casos_confirmados_estados.png',dpi=200)"
   ]
  },
  {
   "cell_type": "code",
   "execution_count": null,
   "metadata": {},
   "outputs": [],
   "source": [
    "data = df_states[df_states['state'] == 'SP']['last_available_confirmed']"
   ]
  },
  {
   "cell_type": "markdown",
   "metadata": {},
   "source": [
    "---"
   ]
  },
  {
   "cell_type": "markdown",
   "metadata": {},
   "source": [
    "#### Plotar Simulações"
   ]
  },
  {
   "cell_type": "code",
   "execution_count": 93,
   "metadata": {},
   "outputs": [
    {
     "ename": "SyntaxError",
     "evalue": "can't assign to function call (<ipython-input-93-fc9f0e6d6f88>, line 4)",
     "output_type": "error",
     "traceback": [
      "\u001b[1;36m  File \u001b[1;32m\"<ipython-input-93-fc9f0e6d6f88>\"\u001b[1;36m, line \u001b[1;32m4\u001b[0m\n\u001b[1;33m    chi,phi,beta(t),rho,delta,alpha = params\u001b[0m\n\u001b[1;37m    ^\u001b[0m\n\u001b[1;31mSyntaxError\u001b[0m\u001b[1;31m:\u001b[0m can't assign to function call\n"
     ]
    }
   ],
   "source": [
    "\n",
    "def seqihr(y,t,*params):\n",
    "    S,E,Q,I,H,R = y\n",
    "    chi,phi,beta(t),rho,delta,alpha = params\n",
    "    return[\n",
    "        -beta(t)*S*(I+(1-rho)*H), #dS/dt\n",
    "        beta(t)*S*(I+(1-rho)*H) - (chi+alpha)*E,#dE/dt\n",
    "        chi*E -alpha*Q,#dQ/dt\n",
    "        alpha*E - (phi+delta)*I,#dI/dt\n",
    "        alpha*Q + phi*I -delta*H,#dH/dt\n",
    "        delta*I + delta*H,#dR/dt\n",
    "    ]\n",
    "\n",
    "chi=.05  # Taxa de quarentenação\n",
    "phi=.01 # Taxa de Hospitalização\n",
    "beta=.2 #taxa de Transmissão\n",
    "rho=.6 # Atenuação da transmissão quando hospitalizado\n",
    "delta=1/10 # Taxa de recuperação hospitalar\n",
    "alpha=1/3 # Taxa de incubaçao\n",
    "\n",
    "inits = [0.9,.1,0,0,0,0]\n",
    "trange = np.arange(0,100,.1)\n",
    "res = odeint(seqihr,inits,trange,args=(chi,phi,beta,rho,delta,alpha))\n",
    "\n",
    "\n",
    "@interact(chi=(0,.1, 0.01),phi=(0,.1,.005),beta=(0,.5,.05),rho=(0,1,.1),delta=(0,1,.05),alpha=(0,1,0.01))\n",
    "def plota_simulação(chi=0.05,phi=.01,beta=.2,rho=.6,delta=.1,alpha=.33):\n",
    "    res = odeint(seqihr,inits,trange,args=(chi,phi,beta,rho,delta,alpha))\n",
    "    fig, ax = plt.subplots(1,1, figsize=(15,10))\n",
    "    ax.plot(trange,res[:,1:-1])\n",
    "    ax.set_ylabel('Fração da População')\n",
    "    ax.set_xlabel('Tempo (dias)')\n",
    "    ax.grid()\n",
    "    ax.legend(['Exposto','Quar','Inf','Hosp','Rec']);"
   ]
  },
  {
   "cell_type": "code",
   "execution_count": 39,
   "metadata": {},
   "outputs": [
    {
     "data": {
      "text/plain": [
       "array([[1.00000000e-01, 0.00000000e+00, 0.00000000e+00, 0.00000000e+00],\n",
       "       [9.62683766e-02, 4.82448153e-04, 3.25253813e-03, 9.74527802e-06],\n",
       "       [9.27332592e-02, 9.31219401e-04, 6.34908065e-03, 3.79876249e-05],\n",
       "       ...,\n",
       "       [1.16912968e-03, 2.09111528e-04, 6.78546789e-03, 2.75569440e-03],\n",
       "       [1.16285705e-03, 2.07989805e-04, 6.74988988e-03, 2.74192569e-03],\n",
       "       [1.15661807e-03, 2.06874092e-04, 6.71449370e-03, 2.72822157e-03]])"
      ]
     },
     "execution_count": 39,
     "metadata": {},
     "output_type": "execute_result"
    }
   ],
   "source": [
    "odeint(seqihr,inits,trange,args=(chi,phi,beta,rho,delta,alpha))[:,1:-1]"
   ]
  },
  {
   "cell_type": "markdown",
   "metadata": {},
   "source": [
    "### Fit model"
   ]
  },
  {
   "cell_type": "code",
   "execution_count": 102,
   "metadata": {},
   "outputs": [],
   "source": [
    "chi=.05  # Taxa de quarentenação\n",
    "phi=.01 # Taxa de Hospitalização\n",
    "#beta=.2 #taxa de Transmissão\n",
    "rho=.6 # Atenuação da transmissão quando hospitalizado\n",
    "delta=1/10 # Taxa de recuperação hospitalar\n",
    "alpha=1/3 # Taxa de incubaçao\n",
    "\n",
    "def seqihr(y,t,chi,phi,beta,rho,delta,alpha):\n",
    "    S,E,Q,I,H,R = y\n",
    "    #chi,phi,beta(t),rho,delta,alpha = params\n",
    "    return[\n",
    "        -beta(t)*S*(I+(1-rho)*H), #dS/dt\n",
    "        beta(t)*S*(I+(1-rho)*H) - (chi+alpha)*E,#dE/dt\n",
    "        chi*E -alpha*Q,#dQ/dt\n",
    "        alpha*E - (phi+delta)*I,#dI/dt\n",
    "        alpha*Q + phi*I -delta*H,#dH/dt\n",
    "        delta*I + delta*H,#dR/dt\n",
    "    ]\n",
    "def logistic_R_0(t, R_0_start, k, x0, R_0_end):\n",
    "    return (R_0_start-R_0_end) / (1 + np.exp(-k*(-t+x0))) + R_0_end\n",
    "\n",
    "def Model(days, R_0_start, k, x0, R_0_end):\n",
    "    \n",
    "    def beta(t):\n",
    "        return logistic_R_0(t, R_0_start, k, x0, R_0_end) \n",
    "\n",
    "    \n",
    "    ret = odeint(seqihr,inits,trange,args=(chi,phi,beta,rho,delta,alpha))\n",
    "    S,E,Q,I,H,R  = ret.T\n",
    "    \n",
    "    \n",
    "    return S,E,Q,I,H,R\n",
    "\n",
    "\n",
    "\n",
    "outbreak_shift = 30\n",
    "params_init_min_max = {\"R_0_start\": (3.0, 2.0, 5.0), \"k\": (2.5, 0.01, 5.0), \"x0\": (90, 0, 120), \"R_0_end\": (0.9, 0.3, 3.5),\n",
    "                    }  # form: {parameter: (initial guess, minimum value, max value)}\n",
    "\n",
    "days = outbreak_shift + len(data)\n",
    "if outbreak_shift >= 0:\n",
    "    y_data = np.concatenate((np.zeros(outbreak_shift), data))\n",
    "else:\n",
    "    y_data = y_data[-outbreak_shift:]\n",
    "\n",
    "x_data = np.linspace(0, days - 1, days, dtype=int)  # x_data is just [0, 1, ..., max_days] array\n",
    "\n",
    "def fitter(x,R_0_start, k, x0, R_0_end):\n",
    "    ret = Model(days, R_0_start, k, x0, R_0_end)\n",
    "    return ret[3][x]"
   ]
  },
  {
   "cell_type": "code",
   "execution_count": 75,
   "metadata": {},
   "outputs": [],
   "source": [
    "outbreak_shift = 30\n",
    "'''params_init_min_max = {\"chi\": (0.5, 0.01, 1), \"phi\": (.01, 0.01, 1), \"beta\": (0.2, 0.01, 1), \"rho\": (0.6, 0, 1),\n",
    "                       \"delta\": (0.1, 0, 1), \"alpha\": (0.33, 0.0, 10)\n",
    "        }  # form: {parameter: (initial guess, minimum value, max value)}'''\n",
    "\n",
    "params_init_min_max = {\"beta\": (0.2, 0.01, 1)}\n",
    "\n",
    "\n",
    "days = outbreak_shift + len(data)\n",
    "if outbreak_shift >= 0:\n",
    "    y_data = np.concatenate((np.zeros(outbreak_shift), data))\n",
    "else:\n",
    "    y_data = y_data[-outbreak_shift:]\n",
    "\n",
    "x_data = np.linspace(0, days - 1, days, dtype=int)  # x_data is just [0, 1, ..., max_days] array"
   ]
  },
  {
   "cell_type": "code",
   "execution_count": 64,
   "metadata": {},
   "outputs": [],
   "source": [
    "def fitter(x,chi,phi,beta,rho,delta,alpha):\n",
    "    ret = odeint(seqihr,inits,trange,args=(chi,phi,beta,rho,delta,alpha))\n",
    "    ret = ret.T\n",
    "    return ret[5][x]"
   ]
  },
  {
   "cell_type": "code",
   "execution_count": 114,
   "metadata": {},
   "outputs": [],
   "source": [
    "mod = lmfit.Model(model([1000, 1, 0], [0, 50], 1001, {'beta': 0.2, 'gamma': .1}))"
   ]
  },
  {
   "cell_type": "code",
   "execution_count": 104,
   "metadata": {},
   "outputs": [],
   "source": [
    "for kwarg, (init, mini, maxi) in params_init_min_max.items():\n",
    "    mod.set_param_hint(str(kwarg), value=init, min=mini, max=maxi, vary=True)\n",
    "\n",
    "params = mod.make_params()\n",
    "fit_method = \"leastsq\""
   ]
  },
  {
   "cell_type": "code",
   "execution_count": 115,
   "metadata": {},
   "outputs": [
    {
     "name": "stderr",
     "output_type": "stream",
     "text": [
      "c:\\users\\lucas\\appdata\\local\\programs\\python\\python37\\lib\\site-packages\\lmfit\\model.py:960: UserWarning: The keyword argument x does not match any arguments of the model function. It will be ignored.\n",
      "  \"It will be ignored.\", UserWarning)\n"
     ]
    },
    {
     "ename": "TypeError",
     "evalue": "'NoneType' object is not callable",
     "output_type": "error",
     "traceback": [
      "\u001b[1;31m---------------------------------------------------------------------------\u001b[0m",
      "\u001b[1;31mTypeError\u001b[0m                                 Traceback (most recent call last)",
      "\u001b[1;32m<ipython-input-115-de8e154037c2>\u001b[0m in \u001b[0;36m<module>\u001b[1;34m\u001b[0m\n\u001b[1;32m----> 1\u001b[1;33m \u001b[0mresult\u001b[0m \u001b[1;33m=\u001b[0m \u001b[0mmod\u001b[0m\u001b[1;33m.\u001b[0m\u001b[0mfit\u001b[0m\u001b[1;33m(\u001b[0m\u001b[0my_data\u001b[0m\u001b[1;33m,\u001b[0m \u001b[0mparams\u001b[0m\u001b[1;33m,\u001b[0m\u001b[0mmethod\u001b[0m\u001b[1;33m=\u001b[0m\u001b[1;34m\"least_squares\"\u001b[0m\u001b[1;33m,\u001b[0m \u001b[0mx\u001b[0m\u001b[1;33m=\u001b[0m\u001b[0mx_data\u001b[0m\u001b[1;33m)\u001b[0m\u001b[1;33m\u001b[0m\u001b[1;33m\u001b[0m\u001b[0m\n\u001b[0m",
      "\u001b[1;32mc:\\users\\lucas\\appdata\\local\\programs\\python\\python37\\lib\\site-packages\\lmfit\\model.py\u001b[0m in \u001b[0;36mfit\u001b[1;34m(self, data, params, weights, method, iter_cb, scale_covar, verbose, fit_kws, nan_policy, calc_covar, max_nfev, **kwargs)\u001b[0m\n\u001b[0;32m   1011\u001b[0m                              \u001b[0mnan_policy\u001b[0m\u001b[1;33m=\u001b[0m\u001b[0mself\u001b[0m\u001b[1;33m.\u001b[0m\u001b[0mnan_policy\u001b[0m\u001b[1;33m,\u001b[0m \u001b[0mcalc_covar\u001b[0m\u001b[1;33m=\u001b[0m\u001b[0mcalc_covar\u001b[0m\u001b[1;33m,\u001b[0m\u001b[1;33m\u001b[0m\u001b[1;33m\u001b[0m\u001b[0m\n\u001b[0;32m   1012\u001b[0m                              max_nfev=max_nfev, **fit_kws)\n\u001b[1;32m-> 1013\u001b[1;33m         \u001b[0moutput\u001b[0m\u001b[1;33m.\u001b[0m\u001b[0mfit\u001b[0m\u001b[1;33m(\u001b[0m\u001b[0mdata\u001b[0m\u001b[1;33m=\u001b[0m\u001b[0mdata\u001b[0m\u001b[1;33m,\u001b[0m \u001b[0mweights\u001b[0m\u001b[1;33m=\u001b[0m\u001b[0mweights\u001b[0m\u001b[1;33m)\u001b[0m\u001b[1;33m\u001b[0m\u001b[1;33m\u001b[0m\u001b[0m\n\u001b[0m\u001b[0;32m   1014\u001b[0m         \u001b[0moutput\u001b[0m\u001b[1;33m.\u001b[0m\u001b[0mcomponents\u001b[0m \u001b[1;33m=\u001b[0m \u001b[0mself\u001b[0m\u001b[1;33m.\u001b[0m\u001b[0mcomponents\u001b[0m\u001b[1;33m\u001b[0m\u001b[1;33m\u001b[0m\u001b[0m\n\u001b[0;32m   1015\u001b[0m         \u001b[1;32mreturn\u001b[0m \u001b[0moutput\u001b[0m\u001b[1;33m\u001b[0m\u001b[1;33m\u001b[0m\u001b[0m\n",
      "\u001b[1;32mc:\\users\\lucas\\appdata\\local\\programs\\python\\python37\\lib\\site-packages\\lmfit\\model.py\u001b[0m in \u001b[0;36mfit\u001b[1;34m(self, data, params, weights, method, nan_policy, **kwargs)\u001b[0m\n\u001b[0;32m   1363\u001b[0m         \u001b[0mself\u001b[0m\u001b[1;33m.\u001b[0m\u001b[0muserargs\u001b[0m \u001b[1;33m=\u001b[0m \u001b[1;33m(\u001b[0m\u001b[0mself\u001b[0m\u001b[1;33m.\u001b[0m\u001b[0mdata\u001b[0m\u001b[1;33m,\u001b[0m \u001b[0mself\u001b[0m\u001b[1;33m.\u001b[0m\u001b[0mweights\u001b[0m\u001b[1;33m)\u001b[0m\u001b[1;33m\u001b[0m\u001b[1;33m\u001b[0m\u001b[0m\n\u001b[0;32m   1364\u001b[0m         \u001b[0mself\u001b[0m\u001b[1;33m.\u001b[0m\u001b[0muserkws\u001b[0m\u001b[1;33m.\u001b[0m\u001b[0mupdate\u001b[0m\u001b[1;33m(\u001b[0m\u001b[0mkwargs\u001b[0m\u001b[1;33m)\u001b[0m\u001b[1;33m\u001b[0m\u001b[1;33m\u001b[0m\u001b[0m\n\u001b[1;32m-> 1365\u001b[1;33m         \u001b[0mself\u001b[0m\u001b[1;33m.\u001b[0m\u001b[0minit_fit\u001b[0m \u001b[1;33m=\u001b[0m \u001b[0mself\u001b[0m\u001b[1;33m.\u001b[0m\u001b[0mmodel\u001b[0m\u001b[1;33m.\u001b[0m\u001b[0meval\u001b[0m\u001b[1;33m(\u001b[0m\u001b[0mparams\u001b[0m\u001b[1;33m=\u001b[0m\u001b[0mself\u001b[0m\u001b[1;33m.\u001b[0m\u001b[0mparams\u001b[0m\u001b[1;33m,\u001b[0m \u001b[1;33m**\u001b[0m\u001b[0mself\u001b[0m\u001b[1;33m.\u001b[0m\u001b[0muserkws\u001b[0m\u001b[1;33m)\u001b[0m\u001b[1;33m\u001b[0m\u001b[1;33m\u001b[0m\u001b[0m\n\u001b[0m\u001b[0;32m   1366\u001b[0m         \u001b[0m_ret\u001b[0m \u001b[1;33m=\u001b[0m \u001b[0mself\u001b[0m\u001b[1;33m.\u001b[0m\u001b[0mminimize\u001b[0m\u001b[1;33m(\u001b[0m\u001b[0mmethod\u001b[0m\u001b[1;33m=\u001b[0m\u001b[0mself\u001b[0m\u001b[1;33m.\u001b[0m\u001b[0mmethod\u001b[0m\u001b[1;33m)\u001b[0m\u001b[1;33m\u001b[0m\u001b[1;33m\u001b[0m\u001b[0m\n\u001b[0;32m   1367\u001b[0m \u001b[1;33m\u001b[0m\u001b[0m\n",
      "\u001b[1;32mc:\\users\\lucas\\appdata\\local\\programs\\python\\python37\\lib\\site-packages\\lmfit\\model.py\u001b[0m in \u001b[0;36meval\u001b[1;34m(self, params, **kwargs)\u001b[0m\n\u001b[0;32m    834\u001b[0m \u001b[1;33m\u001b[0m\u001b[0m\n\u001b[0;32m    835\u001b[0m         \"\"\"\n\u001b[1;32m--> 836\u001b[1;33m         \u001b[1;32mreturn\u001b[0m \u001b[0mself\u001b[0m\u001b[1;33m.\u001b[0m\u001b[0mfunc\u001b[0m\u001b[1;33m(\u001b[0m\u001b[1;33m**\u001b[0m\u001b[0mself\u001b[0m\u001b[1;33m.\u001b[0m\u001b[0mmake_funcargs\u001b[0m\u001b[1;33m(\u001b[0m\u001b[0mparams\u001b[0m\u001b[1;33m,\u001b[0m \u001b[0mkwargs\u001b[0m\u001b[1;33m)\u001b[0m\u001b[1;33m)\u001b[0m\u001b[1;33m\u001b[0m\u001b[1;33m\u001b[0m\u001b[0m\n\u001b[0m\u001b[0;32m    837\u001b[0m \u001b[1;33m\u001b[0m\u001b[0m\n\u001b[0;32m    838\u001b[0m     \u001b[1;33m@\u001b[0m\u001b[0mproperty\u001b[0m\u001b[1;33m\u001b[0m\u001b[1;33m\u001b[0m\u001b[0m\n",
      "\u001b[1;31mTypeError\u001b[0m: 'NoneType' object is not callable"
     ]
    }
   ],
   "source": [
    "result = mod.fit(y_data, params,method=\"least_squares\", x=x_data)"
   ]
  },
  {
   "cell_type": "code",
   "execution_count": 106,
   "metadata": {},
   "outputs": [
    {
     "data": {
      "image/png": "[encoded data removed]",
      "text/plain": [
       "<Figure size 432x288 with 1 Axes>"
      ]
     },
     "metadata": {
      "needs_background": "light"
     },
     "output_type": "display_data"
    }
   ],
   "source": [
    "result.plot_fit(datafmt=\"-\");"
   ]
  },
  {
   "cell_type": "code",
   "execution_count": 107,
   "metadata": {},
   "outputs": [
    {
     "data": {
      "text/html": [
       "<table><tr><th> name </th><th> value </th><th> initial value </th><th> min </th><th> max </th><th> vary </th></tr><tr><td> R_0_start </td><td>  3.00000000 </td><td> None </td><td>  2.00000000 </td><td>  5.00000000 </td><td> True </td></tr><tr><td> k </td><td>  2.50000000 </td><td> None </td><td>  0.01000000 </td><td>  5.00000000 </td><td> True </td></tr><tr><td> x0 </td><td>  90.0000000 </td><td> None </td><td>  0.00000000 </td><td>  120.000000 </td><td> True </td></tr><tr><td> R_0_end </td><td>  0.90000000 </td><td> None </td><td>  0.30000000 </td><td>  3.50000000 </td><td> True </td></tr></table>"
      ],
      "text/plain": [
       "Parameters([('R_0_start',\n",
       "             <Parameter 'R_0_start', value=3.0, bounds=[2.0:5.0]>),\n",
       "            ('k', <Parameter 'k', value=2.5, bounds=[0.01:5.0]>),\n",
       "            ('x0', <Parameter 'x0', value=90, bounds=[0:120]>),\n",
       "            ('R_0_end', <Parameter 'R_0_end', value=0.9, bounds=[0.3:3.5]>)])"
      ]
     },
     "execution_count": 107,
     "metadata": {},
     "output_type": "execute_result"
    }
   ],
   "source": [
    "params"
   ]
  },
  {
   "cell_type": "code",
   "execution_count": 28,
   "metadata": {},
   "outputs": [
    {
     "data": {
      "image/png": "[encoded data removed]",
      "text/plain": [
       "<Figure size 432x288 with 1 Axes>"
      ]
     },
     "metadata": {
      "needs_background": "light"
     },
     "output_type": "display_data"
    }
   ],
   "source": [
    "plt.plot(x_data, y_data, 'bo')\n",
    "plt.plot(x_data, result.init_fit, 'k--', label='initial fit')\n",
    "plt.plot(x_data, result.best_fit, 'r-', label='best fit')\n",
    "plt.legend(loc='best')\n",
    "plt.show()"
   ]
  },
  {
   "cell_type": "code",
   "execution_count": 30,
   "metadata": {},
   "outputs": [
    {
     "data": {
      "text/plain": [
       "array([0.00000000e+00, 5.38944094e-04, 1.88463677e-03, 3.76093107e-03,\n",
       "       6.00742970e-03, 8.53187816e-03, 1.12821518e-02, 1.42297642e-02,\n",
       "       1.73601517e-02, 2.06669414e-02, 2.41485605e-02, 2.78062234e-02,\n",
       "       3.16427284e-02, 3.56617320e-02, 3.98673036e-02, 4.42636445e-02,\n",
       "       4.88549059e-02, 5.36450627e-02, 5.86378218e-02, 6.38365509e-02,\n",
       "       6.92442194e-02, 7.48633477e-02, 8.06959630e-02, 8.67435575e-02,\n",
       "       9.30070526e-02, 9.94867671e-02, 1.06182388e-01, 1.13092950e-01,\n",
       "       1.20216811e-01, 1.27551649e-01, 1.35094446e-01, 1.42841488e-01,\n",
       "       1.50788374e-01, 1.58930025e-01, 1.67260699e-01, 1.75774017e-01,\n",
       "       1.84462989e-01, 1.93320052e-01, 2.02337105e-01, 2.11505557e-01,\n",
       "       2.20816371e-01, 2.30260116e-01, 2.39827019e-01, 2.49507025e-01,\n",
       "       2.59289845e-01, 2.69165022e-01, 2.79121977e-01, 2.89150072e-01,\n",
       "       2.99238660e-01, 3.09377137e-01, 3.19554992e-01, 3.29761851e-01,\n",
       "       3.39987518e-01, 3.50222020e-01, 3.60455635e-01, 3.70678927e-01,\n",
       "       3.80882775e-01, 3.91058388e-01, 4.01197335e-01, 4.11291566e-01,\n",
       "       4.21333401e-01, 4.31315559e-01, 4.41231161e-01, 4.51073726e-01,\n",
       "       4.60837179e-01, 4.70515843e-01, 4.80104442e-01, 4.89598087e-01,\n",
       "       4.98992274e-01, 5.08282872e-01, 5.17466114e-01, 5.26538584e-01,\n",
       "       5.35497207e-01, 5.44339236e-01, 5.53062235e-01, 5.61664069e-01,\n",
       "       5.70142889e-01, 5.78497121e-01, 5.86725444e-01, 5.94826786e-01,\n",
       "       6.02800302e-01, 6.10645368e-01, 6.18361560e-01, 6.25948650e-01,\n",
       "       6.33406585e-01, 6.40735481e-01, 6.47935611e-01, 6.55007389e-01,\n",
       "       6.61951365e-01, 6.68768215e-01, 6.75458725e-01, 6.82023787e-01,\n",
       "       6.88464390e-01, 6.94781609e-01, 7.00976605e-01, 7.07050612e-01,\n",
       "       7.13004916e-01, 7.18840865e-01, 7.24559871e-01, 7.30163386e-01,\n",
       "       7.35652905e-01, 7.41029957e-01, 7.46296104e-01, 7.51452935e-01,\n",
       "       7.56502058e-01, 7.61445112e-01, 7.66283735e-01, 7.71019585e-01,\n",
       "       7.75654328e-01, 7.80189634e-01, 7.84627180e-01, 7.88968640e-01,\n",
       "       7.93215685e-01, 7.97369987e-01, 8.01433208e-01, 8.05407003e-01,\n",
       "       8.09293020e-01, 8.13092894e-01, 8.16808248e-01, 8.20440692e-01,\n",
       "       8.23991824e-01, 8.27463223e-01, 8.30856453e-01, 8.34173059e-01,\n",
       "       8.37414572e-01, 8.40582499e-01, 8.43678332e-01, 8.46703541e-01,\n",
       "       8.49659590e-01, 8.52547872e-01, 8.55369833e-01, 8.58126847e-01,\n",
       "       8.60820284e-01, 8.63451488e-01, 8.66021782e-01, 8.68532470e-01,\n",
       "       8.70984831e-01, 8.73380122e-01, 8.75719583e-01, 8.78004429e-01,\n",
       "       8.80235851e-01, 8.82415024e-01, 8.84543097e-01, 8.86621205e-01,\n",
       "       8.88650452e-01, 8.90631923e-01, 8.92566685e-01, 8.94455785e-01,\n",
       "       8.96300243e-01, 8.98101068e-01, 8.99859245e-01, 9.01575739e-01,\n",
       "       9.03251497e-01, 9.04887453e-01, 9.06484490e-01, 9.08043523e-01,\n",
       "       9.09565413e-01, 9.11051013e-01, 9.12501160e-01, 9.13916669e-01,\n",
       "       9.15298340e-01, 9.16646958e-01, 9.17963286e-01, 9.19248076e-01,\n",
       "       9.20502062e-01, 9.21725960e-01, 9.22920473e-01, 9.24086288e-01,\n",
       "       9.25224077e-01, 9.26334498e-01, 9.27418189e-01, 9.28475778e-01,\n",
       "       9.29507881e-01, 9.30515098e-01, 9.31498017e-01, 9.32457211e-01,\n",
       "       9.33393270e-01, 9.34306660e-01, 9.35197991e-01, 9.36067769e-01,\n",
       "       9.36916501e-01, 9.37744689e-01, 9.38552822e-01, 9.39341376e-01,\n",
       "       9.40110819e-01, 9.40861606e-01, 9.41594185e-01, 9.42308988e-01,\n",
       "       9.43006440e-01, 9.43686958e-01, 9.44350946e-01, 9.44998800e-01,\n",
       "       9.45630909e-01, 9.46247649e-01, 9.46849391e-01, 9.47436496e-01,\n",
       "       9.48009316e-01, 9.48568189e-01, 9.49113451e-01, 9.49645433e-01,\n",
       "       9.50164456e-01, 9.50670830e-01, 9.51164863e-01, 9.51646850e-01,\n",
       "       9.52117084e-01, 9.52575849e-01, 9.53023421e-01, 9.53460071e-01,\n",
       "       9.53886064e-01, 9.54301657e-01, 9.54707103e-01, 9.55102647e-01,\n",
       "       9.55488529e-01, 9.55864983e-01, 9.56232239e-01, 9.56590521e-01,\n",
       "       9.56940044e-01, 9.57281024e-01, 9.57613669e-01, 9.57938179e-01,\n",
       "       9.58254749e-01, 9.58563572e-01, 9.58864841e-01, 9.59158737e-01,\n",
       "       9.59445440e-01, 9.59725125e-01])"
      ]
     },
     "execution_count": 30,
     "metadata": {},
     "output_type": "execute_result"
    }
   ],
   "source": [
    "result.best_fit"
   ]
  },
  {
   "cell_type": "code",
   "execution_count": 27,
   "metadata": {},
   "outputs": [
    {
     "data": {
      "text/plain": [
       "array([  0,   1,   2,   3,   4,   5,   6,   7,   8,   9,  10,  11,  12,\n",
       "        13,  14,  15,  16,  17,  18,  19,  20,  21,  22,  23,  24,  25,\n",
       "        26,  27,  28,  29,  30,  31,  32,  33,  34,  35,  36,  37,  38,\n",
       "        39,  40,  41,  42,  43,  44,  45,  46,  47,  48,  49,  50,  51,\n",
       "        52,  53,  54,  55,  56,  57,  58,  59,  60,  61,  62,  63,  64,\n",
       "        65,  66,  67,  68,  69,  70,  71,  72,  73,  74,  75,  76,  77,\n",
       "        78,  79,  80,  81,  82,  83,  84,  85,  86,  87,  88,  89,  90,\n",
       "        91,  92,  93,  94,  95,  96,  97,  98,  99, 100, 101, 102, 103,\n",
       "       104, 105, 106, 107, 108, 109, 110, 111, 112, 113, 114, 115, 116,\n",
       "       117, 118, 119, 120, 121, 122, 123, 124, 125, 126, 127, 128, 129,\n",
       "       130, 131, 132, 133, 134, 135, 136, 137, 138, 139, 140, 141, 142,\n",
       "       143, 144, 145, 146, 147, 148, 149, 150, 151, 152, 153, 154, 155,\n",
       "       156, 157, 158, 159, 160, 161, 162, 163, 164, 165, 166, 167, 168,\n",
       "       169, 170, 171, 172, 173, 174, 175, 176, 177, 178, 179, 180, 181,\n",
       "       182, 183, 184, 185, 186, 187, 188, 189, 190, 191, 192, 193, 194,\n",
       "       195, 196, 197, 198, 199, 200, 201, 202, 203, 204, 205, 206, 207,\n",
       "       208, 209, 210, 211, 212, 213, 214, 215, 216, 217, 218, 219, 220,\n",
       "       221, 222, 223, 224, 225])"
      ]
     },
     "execution_count": 27,
     "metadata": {},
     "output_type": "execute_result"
    }
   ],
   "source": [
    "x_data"
   ]
  },
  {
   "cell_type": "code",
   "execution_count": 31,
   "metadata": {},
   "outputs": [
    {
     "name": "stdout",
     "output_type": "stream",
     "text": [
      "Name      Value      Min      Max     Vary    Expr    \n",
      "alpha      0.33        0       10     True    \n",
      "beta        0.2        0        1     True    \n",
      "chi         0.5        0        1     True    \n",
      "delta       0.1        0        1     True    \n",
      "phi        0.01        0        1     True    \n",
      "rho         0.6        0        1     True    \n"
     ]
    }
   ],
   "source": [
    "mod.print_param_hints()"
   ]
  },
  {
   "cell_type": "code",
   "execution_count": 109,
   "metadata": {},
   "outputs": [
    {
     "data": {
      "image/png": "[encoded data removed]",
      "text/plain": [
       "<Figure size 432x288 with 1 Axes>"
      ]
     },
     "metadata": {
      "needs_background": "light"
     },
     "output_type": "display_data"
    }
   ],
   "source": [
    "from epimodels.continuous.models import SIR\n",
    "model = SIR()\n",
    "model([1000, 1, 0], [0, 50], 1001, {'beta': 0.2, 'gamma': .1})\n",
    "model.plot_traces()"
   ]
  },
  {
   "cell_type": "code",
   "execution_count": null,
   "metadata": {},
   "outputs": [],
   "source": []
  }
 ],
 "metadata": {
  "kernelspec": {
   "display_name": "Python 3",
   "language": "python",
   "name": "python3"
  },
  "language_info": {
   "codemirror_mode": {
    "name": "ipython",
    "version": 3
   },
   "file_extension": ".py",
   "mimetype": "text/x-python",
   "name": "python",
   "nbconvert_exporter": "python",
   "pygments_lexer": "ipython3",
   "version": "3.7.3"
  }
 },
 "nbformat": 4,
 "nbformat_minor": 2
}
